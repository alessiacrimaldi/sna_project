{
 "cells": [
  {
   "cell_type": "code",
   "execution_count": null,
   "id": "3e5815af",
   "metadata": {},
   "outputs": [],
   "source": [
    "SNA_PROJECT_PATH = \"/home/sna_bros/SNA_Project\""
   ]
  },
  {
   "cell_type": "code",
   "execution_count": null,
   "id": "0a1de364",
   "metadata": {},
   "outputs": [],
   "source": [
    "import pandas as pd\n",
    "import matplotlib.pyplot as plt\n",
    "import seaborn as sns"
   ]
  },
  {
   "cell_type": "code",
   "execution_count": null,
   "id": "1a7d280e",
   "metadata": {},
   "outputs": [],
   "source": [
    "communities = ['agenda2030', 'ai', 'complete', 'deeplearning', 'feminist', 'nato', 'nftcommunity', 'ruleoflaw', 'ukraine']"
   ]
  },
  {
   "cell_type": "code",
   "execution_count": null,
   "id": "4cbb7893",
   "metadata": {},
   "outputs": [],
   "source": [
    "for c in communities:\n",
    "    df = pd.read_csv(f\"{SNA_PROJECT_PATH}/{c}/{c}_measures.csv\")\n",
    "    new_degree=df['in_degree']+df['out_degree']\n",
    "    df['degree_centrality']=new_degree\n",
    "    display(df.head())\n",
    "    df.to_csv(f'{c}/{c}_measures.csv', index=False)\n",
    "\n",
    "    sns.histplot(data=df, x='degree_centrality', hue='label', element=\"step\",\n",
    "    stat=\"density\", common_norm=False, log_scale=True)\n",
    "    plt.savefig(f\"{c}/{c}_degree_centrality.png\")\n",
    "    plt.show()"
   ]
  },
  {
   "cell_type": "markdown",
   "id": "07061f4a",
   "metadata": {},
   "source": [
    "# HITS 2"
   ]
  },
  {
   "cell_type": "code",
   "execution_count": null,
   "id": "b54a936a",
   "metadata": {},
   "outputs": [],
   "source": [
    "for c in communities:\n",
    "    df = pd.read_csv(f\"{SNA_PROJECT_PATH}/{c}/{c}_measures.csv\")\n",
    "\n",
    "    sns.histplot(df, x=\"hubs\", y=\"authorities\", bins=20 ,hue=\"label\")\n",
    "    plt.savefig(f\"{c}/{c}_hubs&authorities.png\")\n",
    "    plt.show()"
   ]
  }
 ],
 "metadata": {
  "kernelspec": {
   "display_name": "sna-project",
   "language": "python",
   "name": "python3"
  },
  "language_info": {
   "codemirror_mode": {
    "name": "ipython",
    "version": 3
   },
   "file_extension": ".py",
   "mimetype": "text/x-python",
   "name": "python",
   "nbconvert_exporter": "python",
   "pygments_lexer": "ipython3",
   "version": "3.11.11"
  }
 },
 "nbformat": 4,
 "nbformat_minor": 5
}
