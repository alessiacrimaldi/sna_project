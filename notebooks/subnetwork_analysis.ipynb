{
 "cells": [
  {
   "cell_type": "markdown",
   "id": "08410cd8",
   "metadata": {},
   "source": [
    "# Subnetwork Analysis"
   ]
  },
  {
   "cell_type": "markdown",
   "id": "050e3fe9",
   "metadata": {},
   "source": [
    "## Path"
   ]
  },
  {
   "cell_type": "code",
   "execution_count": null,
   "id": "43f6004b",
   "metadata": {},
   "outputs": [],
   "source": [
    "SNA_PROJECT_PATH = \"/home/sna_bros/SNA_Project\""
   ]
  },
  {
   "cell_type": "markdown",
   "id": "1214a870",
   "metadata": {},
   "source": [
    "## Installations"
   ]
  },
  {
   "cell_type": "code",
   "execution_count": null,
   "id": "94530040",
   "metadata": {},
   "outputs": [],
   "source": [
    "%pip install ijson -q\n",
    "%pip install networkit\n",
    "%pip install gravis\n",
    "%pip install nx-cugraph-cu12 --extra-index-url https://pypi.nvidia.com"
   ]
  },
  {
   "cell_type": "code",
   "execution_count": null,
   "id": "0906e6da",
   "metadata": {},
   "outputs": [],
   "source": [
    "%pip install gravis"
   ]
  },
  {
   "cell_type": "markdown",
   "id": "3646fb6e",
   "metadata": {},
   "source": [
    "## Imports"
   ]
  },
  {
   "cell_type": "code",
   "execution_count": null,
   "id": "e7b9c006",
   "metadata": {},
   "outputs": [],
   "source": [
    "# Data analysis and manipulation libraries\n",
    "import pandas as pd\n",
    "#import polars as pl\n",
    "import numpy as np"
   ]
  },
  {
   "cell_type": "code",
   "execution_count": null,
   "id": "5125ef6a",
   "metadata": {},
   "outputs": [],
   "source": [
    "# File/OS handling, JSON parsing, progress display and Parquet file operations libraries\n",
    "import os\n",
    "import ijson\n",
    "from typing import List, Any, Dict\n",
    "from tqdm.notebook import tqdm\n",
    "import fastparquet"
   ]
  },
  {
   "cell_type": "code",
   "execution_count": null,
   "id": "62af7af9",
   "metadata": {},
   "outputs": [],
   "source": [
    "# Network analysis and graph manipulation libraries\n",
    "import networkx as nx\n",
    "from networkx import subgraph_view\n",
    "import networkit as nk"
   ]
  },
  {
   "cell_type": "code",
   "execution_count": null,
   "id": "a6ff2ff3",
   "metadata": {},
   "outputs": [],
   "source": [
    "# Graphs visualization libraries\n",
    "import matplotlib.pyplot as plt\n",
    "import matplotlib.colors as mcolors\n",
    "import matplotlib.cm as cm\n",
    "import gravis as gv"
   ]
  },
  {
   "cell_type": "code",
   "execution_count": null,
   "id": "c89896fb",
   "metadata": {},
   "outputs": [],
   "source": [
    "# Machine learning libraries\n",
    "import scipy as spy\n",
    "import seaborn as sns\n",
    "from sklearn.ensemble import IsolationForest\n",
    "from sklearn.preprocessing import StandardScaler\n",
    "from sklearn.model_selection import train_test_split, StratifiedKFold\n",
    "from sklearn.linear_model import LogisticRegression\n",
    "from sklearn.cluster import DBSCAN\n",
    "from sklearn.metrics import classification_report, roc_auc_score, confusion_matrix, accuracy_score\n",
    "#import statsmodels.api as sm"
   ]
  },
  {
   "cell_type": "code",
   "execution_count": null,
   "id": "10c58093",
   "metadata": {},
   "outputs": [],
   "source": [
    "# Cuda backend\n",
    "import nx_cugraph as nxcg"
   ]
  },
  {
   "cell_type": "markdown",
   "id": "debd62df",
   "metadata": {},
   "source": [
    "## Network creation"
   ]
  },
  {
   "cell_type": "code",
   "execution_count": null,
   "id": "53131f5a",
   "metadata": {},
   "outputs": [],
   "source": [
    "unique_users = False"
   ]
  },
  {
   "cell_type": "code",
   "execution_count": null,
   "id": "29390f77",
   "metadata": {},
   "outputs": [],
   "source": [
    "user_hashtag_df = pd.read_parquet(f\"{SNA_PROJECT_PATH}/hashtag_users_non_unique.parquet\")\n",
    "user_hashtag_df.head(10)"
   ]
  },
  {
   "cell_type": "markdown",
   "id": "bb23de1a",
   "metadata": {},
   "source": [
    "##### Run these only if non_unique=True"
   ]
  },
  {
   "cell_type": "code",
   "execution_count": null,
   "id": "a28813fc",
   "metadata": {},
   "outputs": [],
   "source": [
    "hashtag_counts_df = user_hashtag_df.value_counts().reset_index(name='Occurrences')\n",
    "hashtag_counts_df.sort_values(by='Occurrences', ascending=False).head()"
   ]
  },
  {
   "cell_type": "code",
   "execution_count": null,
   "id": "882427fa",
   "metadata": {},
   "outputs": [],
   "source": [
    "communities = user_hashtag_df['Hashtag'].str.lower().value_counts()"
   ]
  },
  {
   "cell_type": "markdown",
   "id": "e6372c9a",
   "metadata": {},
   "source": [
    "### Edge row Selection"
   ]
  },
  {
   "cell_type": "code",
   "execution_count": null,
   "id": "c76997c0",
   "metadata": {},
   "outputs": [],
   "source": [
    "#community_name = \"ukraine\"\n",
    "#community_name = \"nato\"\n",
    "#community_name = \"ruleoflaw\"\n",
    "#community_name = \"nftcommunity\"\n",
    "#community_name = \"agenda2030\"\n",
    "#community_name = \"feminist\"\n",
    "#community_name = \"ai\"\n",
    "#community_name = \"deeplearning\"\n",
    "community_name = \"covid\"\n",
    "\n",
    "#community = hashtag_counts_df[hashtag_counts_df['Hashtag'].str.contains(community_name, case=False)]['UserID'].to_list()  \n",
    "community = user_hashtag_df[user_hashtag_df['Hashtag'].str.lower()==community_name]['UserID'].to_list()                    \n",
    "print(len(community))\n",
    "print(community[:20])"
   ]
  },
  {
   "cell_type": "markdown",
   "id": "64dd4536",
   "metadata": {},
   "source": [
    "##### Run this only if non_unique=True"
   ]
  },
  {
   "cell_type": "code",
   "execution_count": null,
   "id": "14625736",
   "metadata": {},
   "outputs": [],
   "source": [
    "# Filter rows where the hashtag contains the community name (case-insensitive)\n",
    "community_hashtags = hashtag_counts_df[hashtag_counts_df['Hashtag'].str.contains(community_name, case=False)]\n",
    "\n",
    "# Group by UserID and sum the Occurrences\n",
    "community_df = community_hashtags.groupby('UserID')['Occurrences'].sum().reset_index()\n",
    "\n",
    "community_df.sort_values('Occurrences', ascending=False).head(10)"
   ]
  },
  {
   "cell_type": "markdown",
   "id": "2105fff4",
   "metadata": {},
   "source": [
    "##### Reading edges"
   ]
  },
  {
   "cell_type": "code",
   "execution_count": null,
   "id": "975682a7",
   "metadata": {},
   "outputs": [],
   "source": [
    "def create_df_network(df, users):\n",
    "  return df[(df[\"source_id\"].isin(users)) & (df[\"target_id\"].isin(users))]"
   ]
  },
  {
   "cell_type": "code",
   "execution_count": null,
   "id": "807a7b04",
   "metadata": {},
   "outputs": [],
   "source": [
    "df_list = []\n",
    "for k in range(8):\n",
    "  chunk_edge_df = pd.read_parquet(f\"{SNA_PROJECT_PATH}/edge_chunks/edge_chunks/edge_chunk_{k}.parquet\")\n",
    "  df = create_df_network(chunk_edge_df, community)\n",
    "  df_list.append(df)\n",
    "\n",
    "final_df = pd.concat(df_list, ignore_index=True)\n",
    "print(final_df.shape)\n",
    "final_df.head(100)"
   ]
  },
  {
   "cell_type": "markdown",
   "id": "8a4f104d",
   "metadata": {},
   "source": [
    "### Graph creation"
   ]
  },
  {
   "cell_type": "code",
   "execution_count": null,
   "id": "f19ca488",
   "metadata": {},
   "outputs": [],
   "source": [
    "labels = pd.read_csv(f\"{SNA_PROJECT_PATH}/label.csv\")\n",
    "labels.head()\n",
    "colormap = {'human':'green', 'bot':'red'}\n",
    "color_df = labels.replace(colormap)\n",
    "label_dict = labels.set_index('id')['label'].to_dict()\n",
    "color_dict = color_df.set_index('id')['label'].to_dict()"
   ]
  },
  {
   "cell_type": "code",
   "execution_count": null,
   "id": "68f2bf6e",
   "metadata": {},
   "outputs": [],
   "source": [
    "following_df = final_df[final_df['relation']=='following']\n",
    "following_graph = nx.from_pandas_edgelist(following_df, 'source_id', 'target_id', create_using=nx.DiGraph())"
   ]
  },
  {
   "cell_type": "code",
   "execution_count": null,
   "id": "bfc6b247",
   "metadata": {},
   "outputs": [],
   "source": [
    "followers_df = final_df[final_df['relation']=='followers']\n",
    "#followers_graph = nx.from_pandas_edgelist(followers_df, 'source_id', 'target_id', create_using=nx.DiGraph())\n",
    "followers_graph = nx.from_pandas_edgelist(followers_df, 'target_id', 'source_id', create_using=nx.DiGraph())  # Reversing the follower relationship, this way every arc in the graph goes from follower to followed"
   ]
  },
  {
   "cell_type": "code",
   "execution_count": null,
   "id": "18f09424",
   "metadata": {},
   "outputs": [],
   "source": [
    "nx.set_node_attributes(following_graph, label_dict, 'label')\n",
    "nx.set_node_attributes(following_graph, color_dict, 'color')"
   ]
  },
  {
   "cell_type": "code",
   "execution_count": null,
   "id": "ed2dc5f3",
   "metadata": {},
   "outputs": [],
   "source": [
    "nx.set_node_attributes(followers_graph, label_dict, 'label')\n",
    "nx.set_node_attributes(followers_graph, color_dict, 'color')"
   ]
  },
  {
   "cell_type": "code",
   "execution_count": null,
   "id": "ed1e523a",
   "metadata": {},
   "outputs": [],
   "source": [
    "full_graph = nx.compose(following_graph, followers_graph)"
   ]
  },
  {
   "cell_type": "code",
   "execution_count": null,
   "id": "cb6982eb",
   "metadata": {},
   "outputs": [],
   "source": [
    "nodes = full_graph.nodes()\n",
    "edge_dict = {}\n",
    "for e in full_graph.edges():\n",
    "  start_label = nodes[e[0]]['label']\n",
    "  end_label = nodes[e[1]]['label']\n",
    "  edge_dict[e] = start_label + '_' + end_label\n",
    "\n",
    "nx.set_edge_attributes(full_graph, edge_dict, 'edge_label')"
   ]
  },
  {
   "cell_type": "markdown",
   "id": "2e85a757",
   "metadata": {},
   "source": [
    "#### Passages for non-unique setting (to add tweet counts)"
   ]
  },
  {
   "cell_type": "code",
   "execution_count": null,
   "id": "668aa3c7",
   "metadata": {},
   "outputs": [],
   "source": [
    "community_df.set_index('UserID')\n",
    "community_dict = {}\n",
    "for u in range(len(community_df)):\n",
    "  community_dict[community_df.loc[u]['UserID']] = community_df.loc[u]['Occurrences']"
   ]
  },
  {
   "cell_type": "code",
   "execution_count": null,
   "id": "5715fddf",
   "metadata": {},
   "outputs": [],
   "source": [
    "nodes = full_graph.nodes()\n",
    "edge_dict = {}\n",
    "for e in full_graph.edges():\n",
    "  start_label = nodes[e[0]]['label']\n",
    "  end_label = nodes[e[1]]['label']\n",
    "  edge_dict[e] = start_label + '_' + end_label\n",
    "\n",
    "nx.set_edge_attributes(full_graph, edge_dict, 'edge_label')"
   ]
  },
  {
   "cell_type": "markdown",
   "id": "2d8148a9",
   "metadata": {},
   "source": [
    "## Computing centrality measures"
   ]
  },
  {
   "cell_type": "code",
   "execution_count": null,
   "id": "b7f0701f",
   "metadata": {},
   "outputs": [],
   "source": [
    "full_graph_gpu = nxcg.from_networkx(full_graph)"
   ]
  },
  {
   "cell_type": "code",
   "execution_count": null,
   "id": "4b604ee0",
   "metadata": {},
   "outputs": [],
   "source": [
    "full_graph_nk = nk.nxadapter.nx2nk(full_graph, data=True)\n",
    "idmap = dict((id, u) for (id, u) in zip(full_graph.nodes(), range(full_graph.number_of_nodes())))"
   ]
  },
  {
   "cell_type": "code",
   "execution_count": null,
   "id": "c55c2bce",
   "metadata": {},
   "outputs": [],
   "source": [
    "def list_to_dict_user(list_measure):\n",
    "  dict_measure = {}\n",
    "  for u in idmap.keys():\n",
    "    dict_measure[u] = list_measure[idmap[u]]\n",
    "  return dict_measure"
   ]
  },
  {
   "cell_type": "markdown",
   "id": "6bf8a620",
   "metadata": {},
   "source": [
    "#### Setting labels"
   ]
  },
  {
   "cell_type": "code",
   "execution_count": null,
   "id": "71b59336",
   "metadata": {},
   "outputs": [],
   "source": [
    "labels = pd.read_csv(f\"{SNA_PROJECT_PATH}/label.csv\")\n",
    "label_dict = labels.set_index('id')['label'].to_dict()\n",
    "nx.set_node_attributes(full_graph, label_dict, 'label')"
   ]
  },
  {
   "cell_type": "code",
   "execution_count": null,
   "id": "7e3755f1",
   "metadata": {},
   "outputs": [],
   "source": [
    "nodes = full_graph.nodes()\n",
    "edge_dict = {}\n",
    "for e in full_graph.edges():\n",
    "  start_label = nodes[e[0]]['label']\n",
    "  end_label = nodes[e[1]]['label']\n",
    "  edge_dict[e] = start_label + '_' + end_label\n",
    "\n",
    "nx.set_edge_attributes(full_graph, edge_dict, 'edge_label')"
   ]
  },
  {
   "cell_type": "code",
   "execution_count": null,
   "id": "40fb4353",
   "metadata": {},
   "outputs": [],
   "source": [
    "measures = ['degree_centrality', 'in_degree', 'out_degree','eigenvector','reputation','pagerank','betweenness','reciprocity', 'hubs', 'authorities',\n",
    "            'average_neighbour_degree','triangles','core', 'clustering', 'n_tweets']\n",
    "measure_df = pd.DataFrame(full_graph.nodes(),columns=['UserID'])\n",
    "#measure_df = pd.read_csv(f'{community_name}/{community_name}_measures.csv').drop(['label','count'], axis=1, inplace=False)"
   ]
  },
  {
   "cell_type": "code",
   "execution_count": null,
   "id": "b4714c2d",
   "metadata": {},
   "outputs": [],
   "source": [
    "measure_df.head()"
   ]
  },
  {
   "cell_type": "markdown",
   "id": "7c2ca21b",
   "metadata": {},
   "source": [
    "#### Node Measures"
   ]
  },
  {
   "cell_type": "markdown",
   "id": "b6eab970",
   "metadata": {},
   "source": [
    "##### Degree Centrality"
   ]
  },
  {
   "cell_type": "code",
   "execution_count": null,
   "id": "92f33704",
   "metadata": {},
   "outputs": [],
   "source": [
    "deg_centr_nk = nk.centrality.DegreeCentrality(full_graph_nk).run().scores()\n",
    "measure_df['degree_centrality']=deg_centr_nk"
   ]
  },
  {
   "cell_type": "markdown",
   "id": "7e9e0e40",
   "metadata": {},
   "source": [
    "##### In/Out Degree"
   ]
  },
  {
   "cell_type": "code",
   "execution_count": null,
   "id": "eedbe936",
   "metadata": {},
   "outputs": [],
   "source": [
    "in_degree = full_graph.in_degree\n",
    "out_degree = full_graph.out_degree\n",
    "measure_df['in_degree']=[t[1] for t in in_degree]\n",
    "measure_df['out_degree']=[t[1] for t in out_degree]"
   ]
  },
  {
   "cell_type": "markdown",
   "id": "7c62d583",
   "metadata": {},
   "source": [
    "##### Eigenvector Centrality"
   ]
  },
  {
   "cell_type": "code",
   "execution_count": null,
   "id": "6949ea59",
   "metadata": {},
   "outputs": [],
   "source": [
    "eigenvector = nxcg.eigenvector_centrality(full_graph_gpu, max_iter=1000)\n",
    "measure_df['eigenvector'] = eigenvector.values()"
   ]
  },
  {
   "cell_type": "markdown",
   "id": "96275b2a",
   "metadata": {},
   "source": [
    "##### Reputation"
   ]
  },
  {
   "cell_type": "code",
   "execution_count": null,
   "id": "45f4178d",
   "metadata": {},
   "outputs": [],
   "source": [
    "reputation = {}\n",
    "for node in full_graph.nodes().keys():\n",
    "  reputation[node]=in_degree[node]/(in_degree[node]+out_degree[node]+1)\n",
    "measure_df['reputation'] = reputation.values()"
   ]
  },
  {
   "cell_type": "markdown",
   "id": "7970ca29",
   "metadata": {},
   "source": [
    "##### Pagerank"
   ]
  },
  {
   "cell_type": "code",
   "execution_count": null,
   "id": "6063fe34",
   "metadata": {},
   "outputs": [],
   "source": [
    "pagerank = nk.centrality.PageRank(full_graph_nk).run().scores()\n",
    "measure_df['pagerank'] = pagerank"
   ]
  },
  {
   "cell_type": "markdown",
   "id": "021fb9ec",
   "metadata": {},
   "source": [
    "##### Betweenness"
   ]
  },
  {
   "cell_type": "code",
   "execution_count": null,
   "id": "04a1f5b1",
   "metadata": {},
   "outputs": [],
   "source": [
    "betweenness = nxcg.betweenness_centrality(full_graph_gpu)\n",
    "measure_df['betweenness'] = betweenness.values()"
   ]
  },
  {
   "cell_type": "markdown",
   "id": "0494d24e",
   "metadata": {},
   "source": [
    "##### Reciprocity"
   ]
  },
  {
   "cell_type": "code",
   "execution_count": null,
   "id": "3c79a61a",
   "metadata": {},
   "outputs": [],
   "source": [
    "reciprocity= nxcg.reciprocity(full_graph_gpu, full_graph.nodes)\n",
    "measure_df['reciprocity'] = reciprocity.values()"
   ]
  },
  {
   "cell_type": "markdown",
   "id": "30605490",
   "metadata": {},
   "source": [
    "##### Hubs and Authorities"
   ]
  },
  {
   "cell_type": "code",
   "execution_count": null,
   "id": "f7a085bf",
   "metadata": {},
   "outputs": [],
   "source": [
    "hits = nxcg.hits(full_graph_gpu)\n",
    "measure_df['hubs'] = hits[0].values()\n",
    "measure_df['authorities'] = hits[1].values()"
   ]
  },
  {
   "cell_type": "markdown",
   "id": "72884d1a",
   "metadata": {},
   "source": [
    "#### Network Measures"
   ]
  },
  {
   "cell_type": "markdown",
   "id": "28d2a0fc",
   "metadata": {},
   "source": [
    "##### Average Neighbourhood Degree"
   ]
  },
  {
   "cell_type": "code",
   "execution_count": null,
   "id": "c8143b68",
   "metadata": {},
   "outputs": [],
   "source": [
    "avg_n_degree = nx.average_neighbor_degree(full_graph, source='in+out')\n",
    "measure_df['average_neighbour_degree'] = avg_n_degree.values()"
   ]
  },
  {
   "cell_type": "markdown",
   "id": "7151e37e",
   "metadata": {},
   "source": [
    "##### Number of Triangles"
   ]
  },
  {
   "cell_type": "code",
   "execution_count": null,
   "id": "1a30b033",
   "metadata": {},
   "outputs": [],
   "source": [
    "triangles = nxcg.triangles(full_graph_gpu.to_undirected())\n",
    "measure_df['triangles'] = triangles.values()"
   ]
  },
  {
   "cell_type": "markdown",
   "id": "997d6716",
   "metadata": {},
   "source": [
    "##### Core Number"
   ]
  },
  {
   "cell_type": "code",
   "execution_count": null,
   "id": "70283655",
   "metadata": {},
   "outputs": [],
   "source": [
    "core = nxcg.core_number(full_graph_gpu.to_undirected())\n",
    "measure_df['core'] = core.values()"
   ]
  },
  {
   "cell_type": "markdown",
   "id": "ba49051f",
   "metadata": {},
   "source": [
    "##### Clustering"
   ]
  },
  {
   "cell_type": "code",
   "execution_count": null,
   "id": "ff2da565",
   "metadata": {},
   "outputs": [],
   "source": [
    "clustering = nxcg.clustering(full_graph_gpu.to_undirected())\n",
    "measure_df['clustering']=clustering.values()"
   ]
  },
  {
   "cell_type": "markdown",
   "id": "dd9b1e77",
   "metadata": {},
   "source": [
    "##### Triadic Census"
   ]
  },
  {
   "cell_type": "code",
   "execution_count": null,
   "id": "76ff3e89",
   "metadata": {},
   "outputs": [],
   "source": [
    "#triad_census = nx.triadic_census(full_graph)"
   ]
  },
  {
   "cell_type": "code",
   "execution_count": null,
   "id": "b1008bac",
   "metadata": {},
   "outputs": [],
   "source": [
    "# for key, value in triad_census.items():\n",
    "#     print(f\"{key}: {value}\")"
   ]
  },
  {
   "cell_type": "markdown",
   "id": "128e60b2",
   "metadata": {},
   "source": [
    "#### Saving the Dataframe"
   ]
  },
  {
   "cell_type": "code",
   "execution_count": null,
   "id": "e4f6b167",
   "metadata": {},
   "outputs": [],
   "source": [
    "measure_df.head()"
   ]
  },
  {
   "cell_type": "code",
   "execution_count": null,
   "id": "2e625d8f",
   "metadata": {},
   "outputs": [],
   "source": [
    "#Adding number of tweets\n",
    "merged_df = pd.merge(measure_df, community_df, on='UserID', how='inner')\n",
    "merged_df.head()"
   ]
  },
  {
   "cell_type": "code",
   "execution_count": null,
   "id": "c5bf0e8b",
   "metadata": {},
   "outputs": [],
   "source": [
    "labels = pd.read_csv(f\"{SNA_PROJECT_PATH}/label.csv\")\n",
    "labels.columns = ['UserID', 'label']\n",
    "merged_df = pd.merge(merged_df, labels, on='UserID', how='inner')\n",
    "merged_df.head()"
   ]
  },
  {
   "cell_type": "code",
   "execution_count": null,
   "id": "2d8610c5",
   "metadata": {},
   "outputs": [],
   "source": [
    "os.mkdir(f\"{community_name}\")\n",
    "merged_df = merged_df.rename(columns={\"Occurrences\":\"n_tweets\"})\n",
    "merged_df.to_csv(f'{community_name}/{community_name}_measures.csv', index=False)"
   ]
  },
  {
   "cell_type": "code",
   "execution_count": null,
   "id": "8178db30",
   "metadata": {},
   "outputs": [],
   "source": [
    "bot_df = merged_df[merged_df['label']=='bot']\n",
    "human_df = merged_df[merged_df['label']=='human']\n",
    "\n",
    "for measure in measures:\n",
    "  print(f\"Bot Description for {measure}:\\n {bot_df[measure].describe()}\\n\")\n",
    "  print(f\"Human Description for {measure}:\\n {human_df[measure].describe()}'\")\n",
    "  print('\\n\\n')"
   ]
  },
  {
   "cell_type": "markdown",
   "id": "970fe018",
   "metadata": {},
   "source": [
    "## Plotting Distributions"
   ]
  },
  {
   "cell_type": "code",
   "execution_count": null,
   "id": "a02b7673",
   "metadata": {},
   "outputs": [],
   "source": [
    "n_measures = len(measures)\n",
    "for n in range(n_measures):\n",
    "    measure = measures[n]\n",
    "    log=False\n",
    "    if measure not in ['reputation', 'reciprocity', 'average_neighbour_degree', 'core']:\n",
    "        log=True\n",
    "\n",
    "    sns.histplot(data=merged_df, x=measure, hue='label', element=\"step\",\n",
    "    stat=\"density\", common_norm=False, log_scale=log)\n",
    "    plt.savefig(f\"{community_name}/{community_name}_{measure}.png\")\n",
    "    plt.show()"
   ]
  },
  {
   "cell_type": "markdown",
   "id": "59bae9e3",
   "metadata": {},
   "source": [
    "## Graph Visualization"
   ]
  },
  {
   "cell_type": "code",
   "execution_count": null,
   "id": "8f903dce",
   "metadata": {},
   "outputs": [],
   "source": [
    "for k in measures:\n",
    "  nx.set_node_attributes(full_graph, list_to_dict_user(merged_df[k].round(2).astype('float')), k)\n",
    "\n",
    "nx.set_node_attributes(full_graph, list_to_dict_user(merged_df['n_tweets'].astype('float')), 'size')\n",
    "fig = gv.d3(full_graph)\n",
    "fig.export_html(f'{community_name}/{community_name}_graph.html')"
   ]
  }
 ],
 "metadata": {
  "kernelspec": {
   "display_name": "sna-project",
   "language": "python",
   "name": "python3"
  },
  "language_info": {
   "codemirror_mode": {
    "name": "ipython",
    "version": 3
   },
   "file_extension": ".py",
   "mimetype": "text/x-python",
   "name": "python",
   "nbconvert_exporter": "python",
   "pygments_lexer": "ipython3",
   "version": "3.11.11"
  }
 },
 "nbformat": 4,
 "nbformat_minor": 5
}
