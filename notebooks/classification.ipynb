{
 "cells": [
  {
   "cell_type": "markdown",
   "id": "27909f31",
   "metadata": {},
   "source": [
    "# Binary Classification - Humans vs Bots"
   ]
  },
  {
   "cell_type": "markdown",
   "id": "4076c086",
   "metadata": {},
   "source": [
    "## Path"
   ]
  },
  {
   "cell_type": "code",
   "execution_count": null,
   "id": "580a4157",
   "metadata": {},
   "outputs": [],
   "source": [
    "SNA_PROJECT_PATH = \"/home/sna_bros/SNA_Project\""
   ]
  },
  {
   "cell_type": "markdown",
   "id": "caa1c4a8",
   "metadata": {},
   "source": [
    "## Imports"
   ]
  },
  {
   "cell_type": "code",
   "execution_count": null,
   "id": "4469d932",
   "metadata": {},
   "outputs": [],
   "source": [
    "import pandas as pd\n",
    "import seaborn as sns\n",
    "import random as r"
   ]
  },
  {
   "cell_type": "code",
   "execution_count": null,
   "id": "f314327f",
   "metadata": {},
   "outputs": [],
   "source": [
    "from sklearn.model_selection import train_test_split\n",
    "from sklearn.preprocessing import StandardScaler\n",
    "from sklearn.naive_bayes import GaussianNB\n",
    "from sklearn.ensemble import RandomForestClassifier\n",
    "from sklearn.linear_model import LogisticRegression\n",
    "from sklearn.metrics import classification_report, confusion_matrix"
   ]
  },
  {
   "cell_type": "markdown",
   "id": "049d119a",
   "metadata": {},
   "source": [
    "## Preparation of the training and test set"
   ]
  },
  {
   "cell_type": "code",
   "execution_count": null,
   "id": "2cefddc8",
   "metadata": {},
   "outputs": [],
   "source": [
    "subnetwork_name = \"ukraine\"\n",
    "sub_df = pd.read_csv(f\"{SNA_PROJECT_PATH}/{subnetwork_name}/{subnetwork_name}_measures.csv\")\n",
    "sub_df.head()"
   ]
  },
  {
   "cell_type": "code",
   "execution_count": null,
   "id": "b85c96fe",
   "metadata": {},
   "outputs": [],
   "source": [
    "sub_users = sub_df['UserID']"
   ]
  },
  {
   "cell_type": "code",
   "execution_count": null,
   "id": "6103dc30",
   "metadata": {},
   "outputs": [],
   "source": [
    "x = sub_df.drop(['UserID','label'], axis=1)  \n",
    "scaler = StandardScaler()\n",
    "x = scaler.fit_transform(x)"
   ]
  },
  {
   "cell_type": "code",
   "execution_count": null,
   "id": "5a0da936",
   "metadata": {},
   "outputs": [],
   "source": [
    "y = sub_df['label']\n",
    "y = pd.Series([1 if l=='bot' else 0 for l in y])"
   ]
  },
  {
   "cell_type": "code",
   "execution_count": null,
   "id": "bd65111a",
   "metadata": {},
   "outputs": [],
   "source": [
    "x_train, x_test, y_train, y_test = train_test_split(x, y, test_size=0.2, random_state=42)"
   ]
  },
  {
   "cell_type": "markdown",
   "id": "0bdbabc9",
   "metadata": {},
   "source": [
    "### Naive Bayes Classifier"
   ]
  },
  {
   "cell_type": "code",
   "execution_count": null,
   "id": "bf16096f",
   "metadata": {},
   "outputs": [],
   "source": [
    "nbc = GaussianNB()\n",
    "nbc.fit(x_train, y_train)"
   ]
  },
  {
   "cell_type": "code",
   "execution_count": null,
   "id": "0cff5538",
   "metadata": {},
   "outputs": [],
   "source": [
    "y_pred = nbc.predict(x_test)\n",
    "print(classification_report(y_test, y_pred))"
   ]
  },
  {
   "cell_type": "code",
   "execution_count": null,
   "id": "7e05445a",
   "metadata": {},
   "outputs": [],
   "source": [
    "hm = sns.heatmap(confusion_matrix(y_test, y_pred, normalize='all'), annot=True)"
   ]
  },
  {
   "cell_type": "markdown",
   "id": "bb9d43dd",
   "metadata": {},
   "source": [
    "### Random Forest Classifier"
   ]
  },
  {
   "cell_type": "code",
   "execution_count": null,
   "id": "9c65aac2",
   "metadata": {},
   "outputs": [],
   "source": [
    "clf = RandomForestClassifier(\n",
    "    n_estimators=100,      \n",
    "    max_depth=None,        \n",
    "    random_state=42,\n",
    "    class_weight='balanced' \n",
    ")\n",
    "clf.fit(x_train, y_train)"
   ]
  },
  {
   "cell_type": "code",
   "execution_count": null,
   "id": "9d1a8ffd",
   "metadata": {},
   "outputs": [],
   "source": [
    "y_pred = clf.predict(x_test)\n",
    "print(classification_report(y_test, y_pred))"
   ]
  },
  {
   "cell_type": "code",
   "execution_count": null,
   "id": "0f8c9c2c",
   "metadata": {},
   "outputs": [],
   "source": [
    "hm = sns.heatmap(confusion_matrix(y_test, y_pred, normalize='all'), annot=True)"
   ]
  },
  {
   "cell_type": "markdown",
   "id": "6ab0b3bf",
   "metadata": {},
   "source": [
    "### Logistic Regression Classifier"
   ]
  },
  {
   "cell_type": "code",
   "execution_count": null,
   "id": "46150b85",
   "metadata": {},
   "outputs": [],
   "source": [
    "lrc = LogisticRegression(\n",
    "    class_weight='balanced',\n",
    "    max_iter=1000\n",
    ")\n",
    "lrc.fit(x_train, y_train)"
   ]
  },
  {
   "cell_type": "code",
   "execution_count": null,
   "id": "375fd733",
   "metadata": {},
   "outputs": [],
   "source": [
    "y_pred = clf.predict(x_test)\n",
    "print(classification_report(y_test, y_pred))"
   ]
  },
  {
   "cell_type": "code",
   "execution_count": null,
   "id": "75f53d36",
   "metadata": {},
   "outputs": [],
   "source": [
    "hm = sns.heatmap(confusion_matrix(y_test, y_pred, normalize='all'), annot=True)"
   ]
  },
  {
   "cell_type": "markdown",
   "id": "395312bb",
   "metadata": {},
   "source": [
    "### Sampling Complete network for further testing"
   ]
  },
  {
   "cell_type": "code",
   "execution_count": null,
   "id": "be07eec5",
   "metadata": {},
   "outputs": [],
   "source": [
    "complete_df = pd.read_csv(f\"{SNA_PROJECT_PATH}/complete/complete_measures.csv\")\n",
    "complete_df.head()"
   ]
  },
  {
   "cell_type": "code",
   "execution_count": null,
   "id": "3e8f3e8a",
   "metadata": {},
   "outputs": [],
   "source": [
    "remaining_users = [ x for x in complete_df['UserID'] if x not in sub_users]\n",
    "sample = r.sample(remaining_users, 5000)\n",
    "sample_df = complete_df[complete_df['UserID'].isin(sample)]\n",
    "sample_df.columns = complete_df.columns\n",
    "sample_df.head()"
   ]
  },
  {
   "cell_type": "code",
   "execution_count": null,
   "id": "f3255767",
   "metadata": {},
   "outputs": [],
   "source": [
    "sample_x = sample_df.drop(['UserID','label'], axis=1)  \n",
    "scaler = StandardScaler()\n",
    "sample_x = scaler.fit_transform(sample_x)"
   ]
  },
  {
   "cell_type": "code",
   "execution_count": null,
   "id": "e5506e73",
   "metadata": {},
   "outputs": [],
   "source": [
    "sample_y = sample_df['label']\n",
    "sample_y = pd.Series([1 if l=='bot' else 0 for l in sample_y])"
   ]
  },
  {
   "cell_type": "markdown",
   "id": "fc7d6c11",
   "metadata": {},
   "source": [
    "### Test Naive Bayes"
   ]
  },
  {
   "cell_type": "code",
   "execution_count": null,
   "id": "1588868a",
   "metadata": {},
   "outputs": [],
   "source": [
    "sample_y_pred = clf.predict(sample_x)\n",
    "print(classification_report(sample_y, sample_y_pred))\n",
    "hm = sns.heatmap(confusion_matrix(sample_y, sample_y_pred, normalize='all'), annot=True)"
   ]
  },
  {
   "cell_type": "markdown",
   "id": "7e8e9e27",
   "metadata": {},
   "source": [
    "#### Test Random Forest"
   ]
  },
  {
   "cell_type": "code",
   "execution_count": null,
   "id": "6f75c580",
   "metadata": {},
   "outputs": [],
   "source": [
    "sample_y_pred = nbc.predict(sample_x)\n",
    "print(classification_report(sample_y, sample_y_pred))\n",
    "hm = sns.heatmap(confusion_matrix(sample_y, sample_y_pred, normalize='all'), annot=True)"
   ]
  },
  {
   "cell_type": "markdown",
   "id": "2e413d2b",
   "metadata": {},
   "source": [
    "#### Test Logistic Regressor"
   ]
  },
  {
   "cell_type": "code",
   "execution_count": null,
   "id": "b7d7d32a",
   "metadata": {},
   "outputs": [],
   "source": [
    "sample_y_pred = lrc.predict(sample_x)\n",
    "print(classification_report(sample_y, sample_y_pred))\n",
    "hm = sns.heatmap(confusion_matrix(sample_y, sample_y_pred, normalize='all'), annot=True)"
   ]
  },
  {
   "cell_type": "markdown",
   "id": "8ca6315d",
   "metadata": {},
   "source": [
    "## Training using the entire network"
   ]
  },
  {
   "cell_type": "markdown",
   "id": "1a2e9454",
   "metadata": {},
   "source": [
    "### Splitting Complete Network"
   ]
  },
  {
   "cell_type": "code",
   "execution_count": null,
   "id": "55dc7be6",
   "metadata": {},
   "outputs": [],
   "source": [
    "x = complete_df.drop(['UserID','label'], axis=1)  \n",
    "scaler = StandardScaler()\n",
    "x = scaler.fit_transform(x)"
   ]
  },
  {
   "cell_type": "code",
   "execution_count": null,
   "id": "41525884",
   "metadata": {},
   "outputs": [],
   "source": [
    "y = complete_df['label']\n",
    "y = pd.Series([1 if l=='bot' else 0 for l in y])"
   ]
  },
  {
   "cell_type": "code",
   "execution_count": null,
   "id": "7c7c74e8",
   "metadata": {},
   "outputs": [],
   "source": [
    "x_train, x_test, y_train, y_test = train_test_split(x, y, test_size=0.2, random_state=42)"
   ]
  },
  {
   "cell_type": "markdown",
   "id": "fd9cd0c2",
   "metadata": {},
   "source": [
    "### Complete network using Naive Bayes"
   ]
  },
  {
   "cell_type": "code",
   "execution_count": null,
   "id": "fce2b066",
   "metadata": {},
   "outputs": [],
   "source": [
    "nbc = GaussianNB()\n",
    "nbc.fit(x_train, y_train)"
   ]
  },
  {
   "cell_type": "code",
   "execution_count": null,
   "id": "0471f6e5",
   "metadata": {},
   "outputs": [],
   "source": [
    "y_pred = clf.predict(x_test)\n",
    "print(classification_report(y_test, y_pred))"
   ]
  },
  {
   "cell_type": "code",
   "execution_count": null,
   "id": "3cb66a98",
   "metadata": {},
   "outputs": [],
   "source": [
    "hm = sns.heatmap(confusion_matrix(y_test, y_pred, normalize='all'), annot=True)"
   ]
  },
  {
   "cell_type": "markdown",
   "id": "54eb4947",
   "metadata": {},
   "source": [
    "### Complete network using Random Forest"
   ]
  },
  {
   "cell_type": "code",
   "execution_count": null,
   "id": "3e757dc9",
   "metadata": {},
   "outputs": [],
   "source": [
    "clf = RandomForestClassifier(\n",
    "    n_estimators=100,      \n",
    "    max_depth=None,        \n",
    "    random_state=42,\n",
    "    class_weight='balanced' \n",
    ")\n",
    "clf.fit(x_train, y_train)"
   ]
  },
  {
   "cell_type": "code",
   "execution_count": null,
   "id": "048e19cd",
   "metadata": {},
   "outputs": [],
   "source": [
    "y_pred = clf.predict(x_test)\n",
    "print(classification_report(y_test, y_pred))"
   ]
  },
  {
   "cell_type": "code",
   "execution_count": null,
   "id": "99e2821d",
   "metadata": {},
   "outputs": [],
   "source": [
    "hm = sns.heatmap(confusion_matrix(y_test, y_pred, normalize='all'), annot=True)"
   ]
  },
  {
   "cell_type": "markdown",
   "id": "20b03522",
   "metadata": {},
   "source": [
    "### Complete network using Logistic Regressor"
   ]
  },
  {
   "cell_type": "code",
   "execution_count": null,
   "id": "c50b16b2",
   "metadata": {},
   "outputs": [],
   "source": [
    "lrc = LogisticRegression(\n",
    "    class_weight='balanced',\n",
    "    max_iter=1000\n",
    ")\n",
    "lrc.fit(x_train, y_train)"
   ]
  },
  {
   "cell_type": "code",
   "execution_count": null,
   "id": "e80dd5ce",
   "metadata": {},
   "outputs": [],
   "source": [
    "y_pred = lrc.predict(x_test)\n",
    "print(classification_report(y_test, y_pred))"
   ]
  },
  {
   "cell_type": "code",
   "execution_count": null,
   "id": "5ae0334b",
   "metadata": {},
   "outputs": [],
   "source": [
    "hm = sns.heatmap(confusion_matrix(y_test, y_pred, normalize='all'), annot=True)"
   ]
  }
 ],
 "metadata": {
  "kernelspec": {
   "display_name": "sna-project",
   "language": "python",
   "name": "python3"
  },
  "language_info": {
   "codemirror_mode": {
    "name": "ipython",
    "version": 3
   },
   "file_extension": ".py",
   "mimetype": "text/x-python",
   "name": "python",
   "nbconvert_exporter": "python",
   "pygments_lexer": "ipython3",
   "version": "3.11.11"
  }
 },
 "nbformat": 4,
 "nbformat_minor": 5
}
