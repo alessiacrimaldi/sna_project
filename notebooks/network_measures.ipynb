{
 "cells": [
  {
   "cell_type": "markdown",
   "id": "b49f0b74",
   "metadata": {},
   "source": [
    "# Network Measures"
   ]
  },
  {
   "cell_type": "markdown",
   "id": "ee7e0498",
   "metadata": {},
   "source": [
    "## Path"
   ]
  },
  {
   "cell_type": "code",
   "execution_count": null,
   "id": "9af05393",
   "metadata": {},
   "outputs": [],
   "source": [
    "SNA_PROJECT_PATH = \"/home/sna_bros/SNA_Project\""
   ]
  },
  {
   "cell_type": "markdown",
   "id": "af359c23",
   "metadata": {},
   "source": [
    "## Imports"
   ]
  },
  {
   "cell_type": "code",
   "execution_count": null,
   "id": "bb5ba416",
   "metadata": {},
   "outputs": [],
   "source": [
    "import pandas as pd\n",
    "import os\n",
    "import ijson\n",
    "from typing import List, Any, Dict\n",
    "from tqdm.notebook import tqdm\n",
    "import networkx as nx\n",
    "import networkit as nk\n",
    "import seaborn as sns\n",
    "from matplotlib import pyplot as plt\n",
    "import nx_cugraph as nxcg\n",
    "import gravis as gv"
   ]
  },
  {
   "cell_type": "code",
   "execution_count": null,
   "id": "0a53f125",
   "metadata": {},
   "outputs": [],
   "source": [
    "%env NX_CUGRAPH_AUTOCONFIG=True"
   ]
  },
  {
   "cell_type": "markdown",
   "id": "53a87d02",
   "metadata": {},
   "source": [
    "## Loading the Network"
   ]
  },
  {
   "cell_type": "code",
   "execution_count": null,
   "id": "28088e72",
   "metadata": {},
   "outputs": [],
   "source": [
    "df_list = []\n",
    "for k in range(8):\n",
    "  chunk_edge_df = pd.read_parquet(f\"{SNA_PROJECT_PATH}/edge_chunks/edge_chunks/edge_chunk_{k}.parquet\")\n",
    "  df = chunk_edge_df\n",
    "  df_list.append(df)\n",
    "\n",
    "final_df = pd.concat(df_list, ignore_index=True)\n",
    "print(final_df.shape)\n",
    "final_df.head(100)"
   ]
  },
  {
   "cell_type": "code",
   "execution_count": null,
   "id": "a1961d10",
   "metadata": {},
   "outputs": [],
   "source": [
    "following_df = final_df[final_df['relation']=='following']\n",
    "following_graph = nx.from_pandas_edgelist(following_df, 'source_id', 'target_id', create_using=nx.DiGraph())\n",
    "followers_df = final_df[final_df['relation']=='followers']\n",
    "followers_graph = nx.from_pandas_edgelist(followers_df, 'target_id', 'source_id', create_using=nx.DiGraph())\n",
    "full_graph = nx.compose(following_graph, followers_graph)"
   ]
  },
  {
   "cell_type": "code",
   "execution_count": null,
   "id": "91e75637",
   "metadata": {},
   "outputs": [],
   "source": [
    "print(full_graph)"
   ]
  },
  {
   "cell_type": "code",
   "execution_count": null,
   "id": "a3bbc603",
   "metadata": {},
   "outputs": [],
   "source": [
    "full_graph_gpu = nxcg.from_networkx(full_graph)"
   ]
  },
  {
   "cell_type": "code",
   "execution_count": null,
   "id": "4c0fc2d8",
   "metadata": {},
   "outputs": [],
   "source": [
    "full_graph_nk = nk.nxadapter.nx2nk(full_graph, data=True)\n",
    "idmap = dict((id, u) for (id, u) in zip(full_graph.nodes(), range(full_graph.number_of_nodes())))"
   ]
  },
  {
   "cell_type": "code",
   "execution_count": null,
   "id": "a35122e3",
   "metadata": {},
   "outputs": [],
   "source": [
    "labels = pd.read_csv(f\"{SNA_PROJECT_PATH}/label.csv\")\n",
    "label_dict = labels.set_index('id')['label'].to_dict()\n",
    "nx.set_node_attributes(full_graph, label_dict, 'label')"
   ]
  },
  {
   "cell_type": "code",
   "execution_count": null,
   "id": "7c48af65",
   "metadata": {},
   "outputs": [],
   "source": [
    "nodes = full_graph.nodes()\n",
    "edge_dict = {}\n",
    "for e in full_graph.edges():\n",
    "  start_label = nodes[e[0]]['label']\n",
    "  end_label = nodes[e[1]]['label']\n",
    "  edge_dict[e] = start_label + '_' + end_label\n",
    "\n",
    "nx.set_edge_attributes(full_graph, edge_dict, 'edge_label')"
   ]
  },
  {
   "cell_type": "markdown",
   "id": "b077ada4",
   "metadata": {},
   "source": [
    "### Creating a human node only graph"
   ]
  },
  {
   "cell_type": "code",
   "execution_count": null,
   "id": "cfc74e78",
   "metadata": {},
   "outputs": [],
   "source": [
    "human_graph = full_graph.subgraph([n for n in full_graph.nodes() if full_graph.nodes()[n]['label']=='human'])\n",
    "print(human_graph)"
   ]
  },
  {
   "cell_type": "markdown",
   "id": "958da041",
   "metadata": {},
   "source": [
    "### Creating a human-human graph"
   ]
  },
  {
   "cell_type": "code",
   "execution_count": null,
   "id": "1b283d85",
   "metadata": {},
   "outputs": [],
   "source": [
    "human_edge_graph = full_graph.edge_subgraph([e for e in full_graph.edges() if full_graph[e[0]][e[1]]['edge_label']=='human_human'])\n",
    "print(human_edge_graph)"
   ]
  },
  {
   "cell_type": "markdown",
   "id": "c1b4c9d8",
   "metadata": {},
   "source": [
    "### Number of humans that rely on bots for connections"
   ]
  },
  {
   "cell_type": "code",
   "execution_count": null,
   "id": "041daa0f",
   "metadata": {},
   "outputs": [],
   "source": [
    "isolated_humans = len(human_graph)-len(human_edge_graph)\n",
    "print(f\"A total of {isolated_humans} is connected only to Bots\")"
   ]
  },
  {
   "cell_type": "markdown",
   "id": "b3725186",
   "metadata": {},
   "source": [
    "## Computing Measures of the whole graph"
   ]
  },
  {
   "cell_type": "markdown",
   "id": "19c5b806",
   "metadata": {},
   "source": [
    "### Weakly connected components"
   ]
  },
  {
   "cell_type": "code",
   "execution_count": null,
   "id": "3aa739dc",
   "metadata": {},
   "outputs": [],
   "source": [
    "#weak_df = nxcg.weakly_connected_components(full_graph)\n",
    "weak_df = nx.weakly_connected_components(full_graph)\n",
    "print([\n",
    "    len(c)\n",
    "    for c in sorted(weak_df, key=len, reverse=True)\n",
    "])"
   ]
  },
  {
   "cell_type": "markdown",
   "id": "154460c5",
   "metadata": {},
   "source": [
    "### Strongly connected components"
   ]
  },
  {
   "cell_type": "code",
   "execution_count": null,
   "id": "b426583b",
   "metadata": {},
   "outputs": [],
   "source": [
    "strong_df = nx.weakly_connected_components(full_graph)\n",
    "#strong_df.head(5)\n",
    "print([\n",
    "    len(c)\n",
    "    for c in sorted(strong_df, key=len, reverse=True)\n",
    "])"
   ]
  },
  {
   "cell_type": "markdown",
   "id": "22d9920b",
   "metadata": {},
   "source": [
    "### Are these networks scale-free?"
   ]
  },
  {
   "cell_type": "code",
   "execution_count": null,
   "id": "b71958bb",
   "metadata": {},
   "outputs": [],
   "source": [
    "import powerlaw\n",
    "\n",
    "def power_law_check(network):\n",
    "    degrees = [d for _, d in network.degree()]\n",
    "\n",
    "    fit = powerlaw.Fit(degrees)\n",
    "    print(f\"alpha (power-law exponent): {fit.power_law.alpha}\")\n",
    "    print(f\"xmin (starting point of the power law): {fit.power_law.xmin}\")\n",
    "\n",
    "    R, p = fit.distribution_compare('power_law', 'exponential')\n",
    "    print(f\"Loglikelihood ratio: {R}, p-value: {p}\")"
   ]
  },
  {
   "cell_type": "code",
   "execution_count": null,
   "id": "dcb61bb7",
   "metadata": {},
   "outputs": [],
   "source": [
    "print(\"Verifying if the complete network is scale-free\")\n",
    "power_law_check(full_graph)"
   ]
  },
  {
   "cell_type": "code",
   "execution_count": null,
   "id": "ca8021a7",
   "metadata": {},
   "outputs": [],
   "source": [
    "print(\"Verifying if the network containing only human-human connections is scale-free\")\n",
    "power_law_check(human_edge_graph)"
   ]
  },
  {
   "cell_type": "code",
   "execution_count": null,
   "id": "4d625318",
   "metadata": {},
   "outputs": [],
   "source": [
    "print(\"Verifying if the network containing only human users is scale-free\")\n",
    "power_law_check(human_graph)"
   ]
  },
  {
   "cell_type": "markdown",
   "id": "91fdfeaa",
   "metadata": {},
   "source": [
    "### Network density"
   ]
  },
  {
   "cell_type": "code",
   "execution_count": null,
   "id": "2db0cc9e",
   "metadata": {},
   "outputs": [],
   "source": [
    "print(f\"Density of the complete network is: {nx.density(full_graph)}\")"
   ]
  },
  {
   "cell_type": "code",
   "execution_count": null,
   "id": "c70a5fd0",
   "metadata": {},
   "outputs": [],
   "source": [
    "print(f\"Density of the human-human connection network is: {nx.density(human_edge_graph)}\")"
   ]
  },
  {
   "cell_type": "code",
   "execution_count": null,
   "id": "562058dc",
   "metadata": {},
   "outputs": [],
   "source": [
    "print(f\"Density of the human user network is: {nx.density(human_graph)}\")"
   ]
  },
  {
   "cell_type": "markdown",
   "id": "82c759e9",
   "metadata": {},
   "source": [
    "### How much do bots affect clustering coefficient?"
   ]
  },
  {
   "cell_type": "code",
   "execution_count": null,
   "id": "ae27bf89",
   "metadata": {},
   "outputs": [],
   "source": [
    "print(f\"Average clustering coefficient in complete network: {nx.average_clustering(full_graph.to_undirected())}\" )"
   ]
  },
  {
   "cell_type": "code",
   "execution_count": null,
   "id": "2e44e9c5",
   "metadata": {},
   "outputs": [],
   "source": [
    "print(f\"Average clustering coefficient in the human-human connection network: {nx.average_clustering(human_edge_graph.to_undirected())}\" )"
   ]
  },
  {
   "cell_type": "code",
   "execution_count": null,
   "id": "424111e7",
   "metadata": {},
   "outputs": [],
   "source": [
    "print(f\"Average clustering in the human user network: {nx.average_clustering(human_graph.to_undirected())}\" )"
   ]
  }
 ],
 "metadata": {
  "kernelspec": {
   "display_name": "sna-project",
   "language": "python",
   "name": "python3"
  },
  "language_info": {
   "codemirror_mode": {
    "name": "ipython",
    "version": 3
   },
   "file_extension": ".py",
   "mimetype": "text/x-python",
   "name": "python",
   "nbconvert_exporter": "python",
   "pygments_lexer": "ipython3",
   "version": "3.11.11"
  }
 },
 "nbformat": 4,
 "nbformat_minor": 5
}
