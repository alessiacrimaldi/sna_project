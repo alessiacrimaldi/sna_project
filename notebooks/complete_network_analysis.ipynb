{
 "cells": [
  {
   "cell_type": "markdown",
   "metadata": {},
   "source": [
    "# Complete Network Analysis"
   ]
  },
  {
   "cell_type": "markdown",
   "metadata": {},
   "source": [
    "## Path"
   ]
  },
  {
   "cell_type": "code",
   "execution_count": null,
   "metadata": {
    "executionInfo": {
     "elapsed": 48,
     "status": "ok",
     "timestamp": 1744795836447,
     "user": {
      "displayName": "Davide Cremonini",
      "userId": "01097373885400586741"
     },
     "user_tz": -120
    },
    "id": "qNgl-eMPcZ4J"
   },
   "outputs": [],
   "source": [
    "SNA_PROJECT_PATH = \"/home/sna_bros/SNA_Project\""
   ]
  },
  {
   "cell_type": "markdown",
   "metadata": {},
   "source": [
    "## Installations"
   ]
  },
  {
   "cell_type": "code",
   "execution_count": null,
   "metadata": {
    "colab": {
     "base_uri": "https://localhost:8080/"
    },
    "executionInfo": {
     "elapsed": 6938,
     "status": "ok",
     "timestamp": 1744795844143,
     "user": {
      "displayName": "Davide Cremonini",
      "userId": "01097373885400586741"
     },
     "user_tz": -120
    },
    "id": "BIu7Ko5leW-h",
    "outputId": "f24e33c2-d5d9-4f94-e18e-f7eef8d5f040"
   },
   "outputs": [],
   "source": [
    "%pip install ijson -q\n",
    "%pip install networkit\n",
    "%pip install pandas\n",
    "%pip install networkx\n",
    "%pip install networkit\n",
    "%pip install seaborn\n",
    "%pip install matplotlib\n",
    "%pip install fastparquet\n",
    "%pip install scikit-learn"
   ]
  },
  {
   "cell_type": "code",
   "execution_count": null,
   "metadata": {},
   "outputs": [],
   "source": [
    "%pip install nx-cugraph-cu12 --extra-index-url https://pypi.nvidia.com"
   ]
  },
  {
   "cell_type": "code",
   "execution_count": null,
   "metadata": {},
   "outputs": [],
   "source": [
    "%env NX_CUGRAPH_AUTOCONFIG=True"
   ]
  },
  {
   "cell_type": "markdown",
   "metadata": {},
   "source": [
    "## Imports"
   ]
  },
  {
   "cell_type": "code",
   "execution_count": null,
   "metadata": {
    "colab": {
     "base_uri": "https://localhost:8080/",
     "height": 17
    },
    "executionInfo": {
     "elapsed": 4593,
     "status": "ok",
     "timestamp": 1744795848744,
     "user": {
      "displayName": "Davide Cremonini",
      "userId": "01097373885400586741"
     },
     "user_tz": -120
    },
    "id": "z1xWfGWodzz1",
    "outputId": "05aba168-7c2c-45b0-bd91-cc94cb8b24ed"
   },
   "outputs": [],
   "source": [
    "import pandas as pd\n",
    "import os\n",
    "import ijson\n",
    "from typing import List, Any, Dict\n",
    "from tqdm.notebook import tqdm\n",
    "import networkx as nx\n",
    "import networkit as nk\n",
    "import seaborn as sns\n",
    "from matplotlib import pyplot as plt\n",
    "import nx_cugraph as nxcg\n",
    "import gravis as gv"
   ]
  },
  {
   "cell_type": "markdown",
   "metadata": {},
   "source": [
    "## Loading the Network"
   ]
  },
  {
   "cell_type": "code",
   "execution_count": null,
   "metadata": {
    "colab": {
     "base_uri": "https://localhost:8080/",
     "height": 441
    },
    "executionInfo": {
     "elapsed": 21871,
     "status": "ok",
     "timestamp": 1744795870614,
     "user": {
      "displayName": "Davide Cremonini",
      "userId": "01097373885400586741"
     },
     "user_tz": -120
    },
    "id": "2CMi5TSleLCW",
    "outputId": "ba66ab8c-2af0-4302-b133-e11a5279bee5"
   },
   "outputs": [],
   "source": [
    "df_list = []\n",
    "for k in range(8):\n",
    "  chunk_edge_df = pd.read_parquet(f\"{SNA_PROJECT_PATH}/edge_chunks/edge_chunks/edge_chunk_{k}.parquet\")\n",
    "  df = chunk_edge_df\n",
    "  df_list.append(df)\n",
    "\n",
    "final_df = pd.concat(df_list, ignore_index=True)\n",
    "print(final_df.shape)\n",
    "final_df.head(100)"
   ]
  },
  {
   "cell_type": "code",
   "execution_count": null,
   "metadata": {
    "executionInfo": {
     "elapsed": 76269,
     "status": "ok",
     "timestamp": 1744795949483,
     "user": {
      "displayName": "Davide Cremonini",
      "userId": "01097373885400586741"
     },
     "user_tz": -120
    },
    "id": "wDhOJZ4yfNFd"
   },
   "outputs": [],
   "source": [
    "following_df = final_df[final_df['relation']=='following']\n",
    "following_graph = nx.from_pandas_edgelist(following_df, 'source_id', 'target_id', create_using=nx.DiGraph())\n",
    "followers_df = final_df[final_df['relation']=='followers']\n",
    "followers_graph = nx.from_pandas_edgelist(followers_df, 'target_id', 'source_id', create_using=nx.DiGraph())\n",
    "full_graph = nx.compose(following_graph, followers_graph)"
   ]
  },
  {
   "cell_type": "code",
   "execution_count": null,
   "metadata": {
    "colab": {
     "base_uri": "https://localhost:8080/"
    },
    "executionInfo": {
     "elapsed": 615,
     "status": "ok",
     "timestamp": 1744795950096,
     "user": {
      "displayName": "Davide Cremonini",
      "userId": "01097373885400586741"
     },
     "user_tz": -120
    },
    "id": "k8dqahzzfh32",
    "outputId": "de462e5b-7106-4a7e-854b-54da8b2e1e3a"
   },
   "outputs": [],
   "source": [
    "print(full_graph)"
   ]
  },
  {
   "cell_type": "code",
   "execution_count": null,
   "metadata": {},
   "outputs": [],
   "source": [
    "full_graph_gpu = nxcg.from_networkx(full_graph)"
   ]
  },
  {
   "cell_type": "code",
   "execution_count": null,
   "metadata": {
    "executionInfo": {
     "elapsed": 15542,
     "status": "ok",
     "timestamp": 1744795970832,
     "user": {
      "displayName": "Davide Cremonini",
      "userId": "01097373885400586741"
     },
     "user_tz": -120
    },
    "id": "bfeCWUrTf0XO"
   },
   "outputs": [],
   "source": [
    "full_graph_nk = nk.nxadapter.nx2nk(full_graph, data=True)\n",
    "idmap = dict((id, u) for (id, u) in zip(full_graph.nodes(), range(full_graph.number_of_nodes())))"
   ]
  },
  {
   "cell_type": "code",
   "execution_count": null,
   "metadata": {
    "executionInfo": {
     "elapsed": 2,
     "status": "ok",
     "timestamp": 1744795970836,
     "user": {
      "displayName": "Davide Cremonini",
      "userId": "01097373885400586741"
     },
     "user_tz": -120
    },
    "id": "kkguxqbzgT5O"
   },
   "outputs": [],
   "source": [
    "def list_to_dict_user(list_measure):\n",
    "  dict_measure = {}\n",
    "  for u in idmap.keys():\n",
    "    dict_measure[u] = list_measure[idmap[u]]\n",
    "  return dict_measure"
   ]
  },
  {
   "cell_type": "code",
   "execution_count": null,
   "metadata": {
    "executionInfo": {
     "elapsed": 4507,
     "status": "ok",
     "timestamp": 1744796063495,
     "user": {
      "displayName": "Davide Cremonini",
      "userId": "01097373885400586741"
     },
     "user_tz": -120
    },
    "id": "ENlodrjU8pz7"
   },
   "outputs": [],
   "source": [
    "labels = pd.read_csv(f\"{SNA_PROJECT_PATH}/label.csv\")\n",
    "label_dict = labels.set_index('id')['label'].to_dict()\n",
    "nx.set_node_attributes(full_graph, label_dict, 'label')"
   ]
  },
  {
   "cell_type": "code",
   "execution_count": null,
   "metadata": {
    "executionInfo": {
     "elapsed": 16477,
     "status": "ok",
     "timestamp": 1744796081238,
     "user": {
      "displayName": "Davide Cremonini",
      "userId": "01097373885400586741"
     },
     "user_tz": -120
    },
    "id": "ZMs4tvKP73a1"
   },
   "outputs": [],
   "source": [
    "nodes = full_graph.nodes()\n",
    "edge_dict = {}\n",
    "for e in full_graph.edges():\n",
    "  start_label = nodes[e[0]]['label']\n",
    "  end_label = nodes[e[1]]['label']\n",
    "  edge_dict[e] = start_label + '_' + end_label\n",
    "\n",
    "nx.set_edge_attributes(full_graph, edge_dict, 'edge_label')"
   ]
  },
  {
   "cell_type": "markdown",
   "metadata": {},
   "source": [
    "## Adding Number of Tweets"
   ]
  },
  {
   "cell_type": "code",
   "execution_count": null,
   "metadata": {},
   "outputs": [],
   "source": [
    "hu = pd.read_parquet(f\"{SNA_PROJECT_PATH}/hashtag_users_non_unique.parquet\")"
   ]
  },
  {
   "cell_type": "code",
   "execution_count": null,
   "metadata": {},
   "outputs": [],
   "source": [
    "hu.head()"
   ]
  },
  {
   "cell_type": "code",
   "execution_count": null,
   "metadata": {},
   "outputs": [],
   "source": [
    "hu_grouped = pd.DataFrame(hu['UserID'].value_counts())"
   ]
  },
  {
   "cell_type": "code",
   "execution_count": null,
   "metadata": {},
   "outputs": [],
   "source": [
    "hu_grouped.head()"
   ]
  },
  {
   "cell_type": "markdown",
   "metadata": {},
   "source": [
    "## Centrality Measures"
   ]
  },
  {
   "cell_type": "code",
   "execution_count": null,
   "metadata": {},
   "outputs": [],
   "source": [
    "measures = ['degree_centrality', 'in_degree', 'out_degree','eigenvector','reputation','pagerank','betweenness','reciprocity', 'hubs', 'authorities',\n",
    "            'average_neighbour_degree','triangles','core', 'clustering', 'n_tweets']\n",
    "#measure_df = pd.DataFrame(full_graph.nodes(),columns=['UserID'])\n",
    "measure_df = pd.read_csv('measures.csv').drop(['label', 'n_tweets'], axis=1, inplace=False)"
   ]
  },
  {
   "cell_type": "code",
   "execution_count": null,
   "metadata": {},
   "outputs": [],
   "source": [
    "measure_df=measure_df.drop(['Unnamed: 0'], axis=1)\n",
    "measure_df.head()"
   ]
  },
  {
   "cell_type": "markdown",
   "metadata": {},
   "source": [
    "### Node Measures"
   ]
  },
  {
   "cell_type": "markdown",
   "metadata": {},
   "source": [
    "##### Degree Centrality"
   ]
  },
  {
   "cell_type": "code",
   "execution_count": null,
   "metadata": {
    "executionInfo": {
     "elapsed": 27,
     "status": "ok",
     "timestamp": 1744796291001,
     "user": {
      "displayName": "Davide Cremonini",
      "userId": "01097373885400586741"
     },
     "user_tz": -120
    },
    "id": "gQEZIrx9f9d-"
   },
   "outputs": [],
   "source": [
    "deg_centr_nk = nk.centrality.DegreeCentrality(full_graph_nk).run().scores()\n",
    "measure_df['degree_centrality']=deg_centr_nk"
   ]
  },
  {
   "cell_type": "markdown",
   "metadata": {},
   "source": [
    "##### In/Out Degree"
   ]
  },
  {
   "cell_type": "code",
   "execution_count": null,
   "metadata": {
    "executionInfo": {
     "elapsed": 3,
     "status": "ok",
     "timestamp": 1744796291736,
     "user": {
      "displayName": "Davide Cremonini",
      "userId": "01097373885400586741"
     },
     "user_tz": -120
    },
    "id": "UpBboHyPm_4c"
   },
   "outputs": [],
   "source": [
    "in_degree = full_graph.in_degree\n",
    "out_degree = full_graph.out_degree\n",
    "measure_df['in_degree']=[t[1] for t in in_degree]\n",
    "measure_df['out_degree']=[t[1] for t in out_degree]"
   ]
  },
  {
   "cell_type": "markdown",
   "metadata": {},
   "source": [
    "##### Eigenvector Centrality"
   ]
  },
  {
   "cell_type": "code",
   "execution_count": null,
   "metadata": {},
   "outputs": [],
   "source": [
    "eigenvector = nxcg.eigenvector_centrality(full_graph_gpu)\n",
    "measure_df['eigenvector'] = eigenvector.values()"
   ]
  },
  {
   "cell_type": "markdown",
   "metadata": {},
   "source": [
    "##### Reputation"
   ]
  },
  {
   "cell_type": "code",
   "execution_count": null,
   "metadata": {
    "executionInfo": {
     "elapsed": 1543,
     "status": "ok",
     "timestamp": 1744796304232,
     "user": {
      "displayName": "Davide Cremonini",
      "userId": "01097373885400586741"
     },
     "user_tz": -120
    },
    "id": "UopLPf339eou"
   },
   "outputs": [],
   "source": [
    "reputation = {}\n",
    "for node in full_graph.nodes().keys():\n",
    "  reputation[node]=in_degree[node]/(in_degree[node]+out_degree[node]+1)\n",
    "measure_df['reputation'] = reputation.values()"
   ]
  },
  {
   "cell_type": "markdown",
   "metadata": {},
   "source": [
    "##### Pagerank"
   ]
  },
  {
   "cell_type": "code",
   "execution_count": null,
   "metadata": {
    "executionInfo": {
     "elapsed": 5578,
     "status": "ok",
     "timestamp": 1744796369843,
     "user": {
      "displayName": "Davide Cremonini",
      "userId": "01097373885400586741"
     },
     "user_tz": -120
    },
    "id": "tkCC00g0o9vH"
   },
   "outputs": [],
   "source": [
    "pagerank = nk.centrality.PageRank(full_graph_nk).run().scores()\n",
    "measure_df['pagerank'] = pagerank"
   ]
  },
  {
   "cell_type": "markdown",
   "metadata": {},
   "source": [
    "##### Betweenness"
   ]
  },
  {
   "cell_type": "code",
   "execution_count": null,
   "metadata": {},
   "outputs": [],
   "source": [
    "betweenness = nxcg.betweenness_centrality(full_graph_gpu)\n",
    "measure_df['betweenness'] = betweenness.values()"
   ]
  },
  {
   "cell_type": "markdown",
   "metadata": {},
   "source": [
    "##### Reciprocity"
   ]
  },
  {
   "cell_type": "code",
   "execution_count": null,
   "metadata": {},
   "outputs": [],
   "source": [
    "reciprocity= nxcg.reciprocity(full_graph_gpu, full_graph.nodes)\n",
    "measure_df['reciprocity'] = reciprocity.values()"
   ]
  },
  {
   "cell_type": "markdown",
   "metadata": {},
   "source": [
    "##### Hubs and Autorities"
   ]
  },
  {
   "cell_type": "code",
   "execution_count": null,
   "metadata": {},
   "outputs": [],
   "source": [
    "hits = nxcg.hits(full_graph_gpu)\n",
    "measure_df['hubs'] = hits[0].values()\n",
    "measure_df['authorities'] = hits[1].values()"
   ]
  },
  {
   "cell_type": "markdown",
   "metadata": {},
   "source": [
    "### Network Measures"
   ]
  },
  {
   "cell_type": "markdown",
   "metadata": {},
   "source": [
    "##### Average Neighbour Degree"
   ]
  },
  {
   "cell_type": "code",
   "execution_count": null,
   "metadata": {
    "executionInfo": {
     "elapsed": 10562,
     "status": "ok",
     "timestamp": 1744800605883,
     "user": {
      "displayName": "Davide Cremonini",
      "userId": "01097373885400586741"
     },
     "user_tz": -120
    },
    "id": "t7rznl3rNZGr"
   },
   "outputs": [],
   "source": [
    "avg_n_degree = nx.average_neighbor_degree(full_graph, source='in+out')\n",
    "measure_df['average_neighbour_degree'] = avg_n_degree.values()"
   ]
  },
  {
   "cell_type": "markdown",
   "metadata": {},
   "source": [
    "##### Triangle Count"
   ]
  },
  {
   "cell_type": "code",
   "execution_count": null,
   "metadata": {},
   "outputs": [],
   "source": [
    "triangles = nxcg.triangles(full_graph_gpu.to_undirected())\n",
    "measure_df['triangles'] = triangles.values()"
   ]
  },
  {
   "cell_type": "markdown",
   "metadata": {},
   "source": [
    "##### Core Number"
   ]
  },
  {
   "cell_type": "code",
   "execution_count": null,
   "metadata": {},
   "outputs": [],
   "source": [
    "core = nxcg.core_number(full_graph_gpu.to_undirected())\n",
    "measure_df['core'] = core.values()"
   ]
  },
  {
   "cell_type": "markdown",
   "metadata": {},
   "source": [
    "##### Clustering Coefficient"
   ]
  },
  {
   "cell_type": "code",
   "execution_count": null,
   "metadata": {},
   "outputs": [],
   "source": [
    "clustering = nxcg.clustering(full_graph_gpu.to_undirected())\n",
    "measure_df['clustering']=clustering.values()"
   ]
  },
  {
   "cell_type": "markdown",
   "metadata": {},
   "source": [
    "##### Triadic Census"
   ]
  },
  {
   "cell_type": "code",
   "execution_count": null,
   "metadata": {},
   "outputs": [],
   "source": [
    "triad_census = nx.triadic_census(full_graph)"
   ]
  },
  {
   "cell_type": "code",
   "execution_count": null,
   "metadata": {
    "colab": {
     "base_uri": "https://localhost:8080/",
     "height": 206
    },
    "executionInfo": {
     "elapsed": 26,
     "status": "ok",
     "timestamp": 1744800608106,
     "user": {
      "displayName": "Davide Cremonini",
      "userId": "01097373885400586741"
     },
     "user_tz": -120
    },
    "id": "YW1EAyi6iIoa",
    "outputId": "7bc7320f-5c76-4fef-ab53-c24ec4d34cdc"
   },
   "outputs": [],
   "source": [
    "measure_df.head()"
   ]
  },
  {
   "cell_type": "code",
   "execution_count": null,
   "metadata": {},
   "outputs": [],
   "source": [
    "#Adding number of tweets\n",
    "merged_df = pd.merge(measure_df, hu_grouped, on='UserID', how='inner')\n",
    "merged_df.head()"
   ]
  },
  {
   "cell_type": "code",
   "execution_count": null,
   "metadata": {
    "colab": {
     "base_uri": "https://localhost:8080/",
     "height": 206
    },
    "executionInfo": {
     "elapsed": 2909,
     "status": "ok",
     "timestamp": 1744800611016,
     "user": {
      "displayName": "Davide Cremonini",
      "userId": "01097373885400586741"
     },
     "user_tz": -120
    },
    "id": "8yt-GZaLioQZ",
    "outputId": "5cfe7fef-5a1d-41ea-d0bf-5099c0bc01bf"
   },
   "outputs": [],
   "source": [
    "#Adding labels\n",
    "labels = pd.read_csv(f\"{SNA_PROJECT_PATH}/label.csv\")\n",
    "labels.columns = ['UserID', 'label']\n",
    "merged_df = pd.merge(merged_df, labels, on='UserID', how='inner')\n",
    "merged_df.head()"
   ]
  },
  {
   "cell_type": "code",
   "execution_count": null,
   "metadata": {},
   "outputs": [],
   "source": [
    "os.mkdir(\"complete\")\n",
    "#merged_df = merged_df.drop('label_x', axis=1).rename(columns={\"label_y\": \"label\"})\n",
    "merged_df.to_csv('complete/complete_measures.csv', index=False)"
   ]
  },
  {
   "cell_type": "code",
   "execution_count": null,
   "metadata": {
    "colab": {
     "base_uri": "https://localhost:8080/"
    },
    "executionInfo": {
     "elapsed": 464,
     "status": "ok",
     "timestamp": 1744800611500,
     "user": {
      "displayName": "Davide Cremonini",
      "userId": "01097373885400586741"
     },
     "user_tz": -120
    },
    "id": "N2wL-7xClpmw",
    "outputId": "b4d57397-e08d-4cdb-f925-25c82d9b6f5b"
   },
   "outputs": [],
   "source": [
    "bot_df = merged_df[merged_df['label']=='bot']\n",
    "human_df = merged_df[merged_df['label']=='human']\n",
    "\n",
    "for measure in measures:\n",
    "  print(f\"Bot Description for {measure}:\\n {bot_df[measure].describe()}\\n\")\n",
    "  print(f\"Human Description for {measure}:\\n {human_df[measure].describe()}'\")\n",
    "  print('\\n\\n')"
   ]
  },
  {
   "cell_type": "markdown",
   "metadata": {},
   "source": [
    "## Plotting Distributions"
   ]
  },
  {
   "cell_type": "code",
   "execution_count": null,
   "metadata": {},
   "outputs": [],
   "source": [
    "n_measures = len(measures)\n",
    "for n in range(n_measures):\n",
    "    measure = measures[n]\n",
    "    log=False\n",
    "    if measure not in ['reputation', 'reciprocity', 'average_neighbour_degree', 'core']:\n",
    "        log=True\n",
    "\n",
    "    sns.histplot(data=merged_df, x=measure, hue='label', element=\"step\",\n",
    "    stat=\"density\", common_norm=False, log_scale=log)\n",
    "    plt.savefig(f\"complete/complete_{measure}.png\")\n",
    "    plt.show()"
   ]
  },
  {
   "cell_type": "markdown",
   "metadata": {},
   "source": [
    "## Graph Visualization"
   ]
  },
  {
   "cell_type": "code",
   "execution_count": null,
   "metadata": {},
   "outputs": [],
   "source": [
    "for k in measures:\n",
    "  nx.set_node_attributes(full_graph, merged_df[k].round(2), k)\n",
    "\n",
    "\n",
    "#nx.set_node_attributes(full_graph, merged_df['n_tweets'], 'size')\n",
    "fig = gv.d3(full_graph)\n",
    "fig.export_html(f'complete/complete.html')"
   ]
  }
 ],
 "metadata": {
  "colab": {
   "authorship_tag": "ABX9TyNThTxJt6pkFLkfaxMNRefF",
   "provenance": []
  },
  "kernelspec": {
   "display_name": "sna-project",
   "language": "python",
   "name": "python3"
  },
  "language_info": {
   "codemirror_mode": {
    "name": "ipython",
    "version": 3
   },
   "file_extension": ".py",
   "mimetype": "text/x-python",
   "name": "python",
   "nbconvert_exporter": "python",
   "pygments_lexer": "ipython3",
   "version": "3.11.11"
  }
 },
 "nbformat": 4,
 "nbformat_minor": 0
}
